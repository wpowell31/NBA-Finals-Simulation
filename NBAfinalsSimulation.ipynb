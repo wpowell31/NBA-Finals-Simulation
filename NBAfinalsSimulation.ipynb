{
 "cells": [
  {
   "cell_type": "code",
   "execution_count": 3,
   "metadata": {},
   "outputs": [],
   "source": [
    "import pandas as pd \n",
    "import random as rnd\n",
    "import numpy as np \n",
    "import matplotlib.pyplot as plt\n",
    "\n",
    "#sources - Ken Jee on Youtube - https://www.youtube.com/watch?v=irjTWNV0eAY\n",
    "#https://www.basketball-reference.com/teams/GSW/2022_games.html\n",
    "#Basketball-reference\n"
   ]
  },
  {
   "cell_type": "code",
   "execution_count": 28,
   "metadata": {},
   "outputs": [],
   "source": [
    "bos_data = pd.read_csv('celtics.csv')\n",
    "gsw_data = pd.read_csv('gsw.csv')"
   ]
  },
  {
   "cell_type": "code",
   "execution_count": 32,
   "metadata": {},
   "outputs": [
    {
     "data": {
      "text/plain": [
       "G              41.500000\n",
       "Unnamed: 3           NaN\n",
       "Tm            111.000000\n",
       "Opp           105.463415\n",
       "W              29.878049\n",
       "L              11.621951\n",
       "Notes                NaN\n",
       "dtype: float64"
      ]
     },
     "execution_count": 32,
     "metadata": {},
     "output_type": "execute_result"
    }
   ],
   "source": [
    "gsw_data.mean()"
   ]
  },
  {
   "cell_type": "code",
   "execution_count": 43,
   "metadata": {},
   "outputs": [],
   "source": [
    "'''\n",
    "    Getting mean and standard deviations for BOS and GSW offenses and defenses\n",
    "'''\n",
    "gsw_points = gsw_data['Tm'].mean()\n",
    "gsw_points_sd = gsw_data['Tm'].std()\n",
    "gsw_opp = gsw_data['Opp'].mean()\n",
    "gsw_opp_sd = gsw_data['Opp'].std()\n",
    "\n",
    "\n",
    "bos_points = bos_data['Tm'].mean()\n",
    "bos_points_sd = bos_data['Tm'].std()\n",
    "bos_opp = bos_data['Opp'].mean()\n",
    "bos_opp_sd = bos_data['Opp'].std()\n"
   ]
  },
  {
   "cell_type": "code",
   "execution_count": 51,
   "metadata": {},
   "outputs": [],
   "source": [
    "def simulate_game():\n",
    "    GSW = (rnd.gauss(gsw_points, gsw_points_sd)+rnd.gauss(bos_opp, bos_opp_sd))/2\n",
    "    BOS = (rnd.gauss(bos_points, bos_points_sd)+rnd.gauss(gsw_opp, gsw_opp_sd))/2\n",
    "    if int(round(BOS)) >= int(round(GSW)):\n",
    "        return 'bos'\n",
    "    else:\n",
    "        return 'gsw'\n",
    "  "
   ]
  },
  {
   "cell_type": "code",
   "execution_count": 78,
   "metadata": {},
   "outputs": [],
   "source": [
    "def simulate_NBAfinals():\n",
    "    bos = 1\n",
    "    gsw = 0\n",
    "    for i in range(7):\n",
    "        game = simulate_game()\n",
    "        if(bos >= 4):\n",
    "            return 'bos'\n",
    "        if(gsw >= 4):\n",
    "            return 'gsw'\n",
    "        \n",
    "        if game == 'bos':\n",
    "            bos += 1\n",
    "        else:\n",
    "            gsw += 1\n",
    "    \n",
    "    if(bos >= 4):\n",
    "        return 'bos'\n",
    "    else:\n",
    "        return 'gsw'\n",
    "        "
   ]
  },
  {
   "cell_type": "code",
   "execution_count": 81,
   "metadata": {},
   "outputs": [],
   "source": [
    "def monteCarloNBA(n):\n",
    "    bos = 0\n",
    "    gsw = 0\n",
    "    series = []\n",
    "    for i in range(n):\n",
    "        nba_finals = simulate_NBAfinals()\n",
    "        series.append(nba_finals)\n",
    "        if nba_finals == 'bos':\n",
    "            bos += 1\n",
    "        else:\n",
    "            gsw += 1\n",
    "    print('BOS win ' + str(float(bos/n)))\n",
    "    print('GSW win ' + str(float(gsw/n)))\n",
    "    return None\n",
    "    \n",
    "    "
   ]
  },
  {
   "cell_type": "code",
   "execution_count": 82,
   "metadata": {},
   "outputs": [
    {
     "name": "stdout",
     "output_type": "stream",
     "text": [
      "BOS win 0.747\n",
      "GSW win 0.253\n"
     ]
    }
   ],
   "source": [
    "monteCarloNBA(1000)"
   ]
  },
  {
   "cell_type": "code",
   "execution_count": null,
   "metadata": {},
   "outputs": [],
   "source": []
  }
 ],
 "metadata": {
  "kernelspec": {
   "display_name": "Python 3",
   "language": "python",
   "name": "python3"
  },
  "language_info": {
   "codemirror_mode": {
    "name": "ipython",
    "version": 3
   },
   "file_extension": ".py",
   "mimetype": "text/x-python",
   "name": "python",
   "nbconvert_exporter": "python",
   "pygments_lexer": "ipython3",
   "version": "3.7.4"
  }
 },
 "nbformat": 4,
 "nbformat_minor": 2
}
